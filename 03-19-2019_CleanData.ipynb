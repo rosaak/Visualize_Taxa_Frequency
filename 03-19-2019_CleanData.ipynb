{
 "cells": [
  {
   "cell_type": "markdown",
   "metadata": {},
   "source": [
    "# Which variable region or 16s primer set to use\n",
    "- Liz downloaded the data from qiagen\n",
    "- each sheet is a sample\n",
    "- for each sample\n",
    "    - Clean the data \n",
    "    - Save it"
   ]
  },
  {
   "cell_type": "code",
   "execution_count": 1,
   "metadata": {},
   "outputs": [],
   "source": [
    "import pandas as pd\n",
    "from collections import OrderedDict\n",
    "import xlrd\n",
    "import seaborn as sns\n",
    "import matplotlib.pyplot as plt\n",
    "%matplotlib inline"
   ]
  },
  {
   "cell_type": "code",
   "execution_count": 2,
   "metadata": {},
   "outputs": [],
   "source": [
    "excel_file_fp = \"all_sample_panel.xlsx\""
   ]
  },
  {
   "cell_type": "code",
   "execution_count": 3,
   "metadata": {},
   "outputs": [],
   "source": [
    "xls = xlrd.open_workbook(excel_file_fp, on_demand=True)\n",
    "sheet_names= xls.sheet_names()"
   ]
  },
  {
   "cell_type": "code",
   "execution_count": 4,
   "metadata": {},
   "outputs": [
    {
     "data": {
      "text/plain": [
       "138"
      ]
     },
     "execution_count": 4,
     "metadata": {},
     "output_type": "execute_result"
    }
   ],
   "source": [
    "len(sheet_names)"
   ]
  },
  {
   "cell_type": "code",
   "execution_count": 7,
   "metadata": {},
   "outputs": [
    {
     "data": {
      "text/plain": [
       "['V1V2_HNO17_S8_R1 (paired) t...',\n",
       " 'V1V2_HNO19_S9_R1 (paired) t...',\n",
       " 'V1V2_HNO209_S14_R1 (paired)...',\n",
       " 'V1V2_HNO223_S15_R1 (paired)...']"
      ]
     },
     "execution_count": 7,
     "metadata": {},
     "output_type": "execute_result"
    }
   ],
   "source": [
    "sheet_names[0:4]"
   ]
  },
  {
   "cell_type": "code",
   "execution_count": 8,
   "metadata": {},
   "outputs": [],
   "source": [
    "def clean_up_excel(excel_fp,sheet_names):\n",
    "    sheet=sheet_names\n",
    "    sample_name = sheet.split(' ')[0]\n",
    "    df=pd.read_excel(excel_fp, sheet_name=sheet)\n",
    "    df= df[[\"ID\",\"Taxonomy\",\"Combined Abundance\"]]\n",
    "    df.set_index('ID', drop=True, inplace=True)\n",
    "    tax_dict = OrderedDict()\n",
    "    for e,i in enumerate( df.Taxonomy):\n",
    "        tmp_dict = OrderedDict()\n",
    "        sx = i.split(\"; \")\n",
    "        for u in sx:\n",
    "            if 'D_0__' in u:\n",
    "                tmp_dict['K']=u.replace('D_0__','')\n",
    "            elif 'D_1__' in u:\n",
    "                tmp_dict['P']=u.replace('D_1__','')\n",
    "            elif 'D_2__' in u:\n",
    "                tmp_dict['C']=u.replace('D_2__','')\n",
    "            elif 'D_3__' in u:\n",
    "                tmp_dict['O']=u.replace('D_3__','')\n",
    "            elif 'D_4__' in u:\n",
    "                tmp_dict['F']=u.replace('D_4__','')\n",
    "            elif 'D_5__' in u:\n",
    "                tmp_dict['G']=u.replace('D_5__','')\n",
    "            else :\n",
    "                tmp_dict['S']=u.replace('D_6__','')\n",
    "        tax_dict[e] = tmp_dict\n",
    "    dfx = pd.DataFrame( tax_dict ).T\n",
    "    dfx=dfx[[\"K\",\"P\",\"C\",\"O\",\"F\",\"G\",\"S\"]]\n",
    "    dfx.index = df.index\n",
    "    dfy =pd.concat([dfx, df],axis=1)\n",
    "    return( [sample_name, dfy] )"
   ]
  },
  {
   "cell_type": "code",
   "execution_count": 9,
   "metadata": {},
   "outputs": [],
   "source": [
    "def get_distribution_of_taxa(data, taxa='G'):\n",
    "    samples = OrderedDict()\n",
    "    for i in data.keys():\n",
    "        x=data.get(i)[1][taxa].value_counts()\n",
    "        x.name = i\n",
    "        samples[i] =x \n",
    "    df =pd.concat( samples.values(), axis=1)\n",
    "    df.fillna(0, inplace=True)\n",
    "    return(df)"
   ]
  },
  {
   "cell_type": "code",
   "execution_count": 10,
   "metadata": {},
   "outputs": [],
   "source": [
    "data = OrderedDict()\n",
    "for i in sheet_names :\n",
    "    n = i.split(' ')[0]\n",
    "    data[n] = ( clean_up_excel(excel_file_fp, i) )"
   ]
  },
  {
   "cell_type": "code",
   "execution_count": 11,
   "metadata": {},
   "outputs": [
    {
     "data": {
      "text/plain": [
       "['V1V2_HNO17_S8_R1',\n",
       " 'V1V2_HNO19_S9_R1',\n",
       " 'V1V2_HNO209_S14_R1',\n",
       " 'V1V2_HNO223_S15_R1']"
      ]
     },
     "execution_count": 11,
     "metadata": {},
     "output_type": "execute_result"
    }
   ],
   "source": [
    "list(data.keys())[0:4]"
   ]
  },
  {
   "cell_type": "code",
   "execution_count": 12,
   "metadata": {},
   "outputs": [],
   "source": [
    "all_phylum = get_distribution_of_taxa(data,\"P\")"
   ]
  },
  {
   "cell_type": "code",
   "execution_count": 13,
   "metadata": {},
   "outputs": [],
   "source": [
    "all_phylum.to_csv(\"all_samples_phylum.csv\", index_label=\"taxa\")"
   ]
  },
  {
   "cell_type": "code",
   "execution_count": 14,
   "metadata": {},
   "outputs": [],
   "source": [
    "all_fam = get_distribution_of_taxa(data,\"F\")"
   ]
  },
  {
   "cell_type": "code",
   "execution_count": 15,
   "metadata": {},
   "outputs": [],
   "source": [
    "all_fam.to_csv(\"all_samples_fam.csv\", index_label=\"taxa\")"
   ]
  },
  {
   "cell_type": "code",
   "execution_count": 16,
   "metadata": {},
   "outputs": [],
   "source": [
    "all_genus = get_distribution_of_taxa(data,\"G\")"
   ]
  },
  {
   "cell_type": "code",
   "execution_count": 17,
   "metadata": {},
   "outputs": [],
   "source": [
    "all_genus.to_csv(\"all_samples_genus.csv\", index_label=\"taxa\")"
   ]
  },
  {
   "cell_type": "code",
   "execution_count": 18,
   "metadata": {},
   "outputs": [],
   "source": [
    "all_species = get_distribution_of_taxa(data,\"S\")"
   ]
  },
  {
   "cell_type": "code",
   "execution_count": 19,
   "metadata": {},
   "outputs": [],
   "source": [
    "all_species.to_csv(\"all_samples_species.csv\", index_label=\"taxa\")"
   ]
  }
 ],
 "metadata": {
  "kernelspec": {
   "display_name": "Python 3",
   "language": "python",
   "name": "python3"
  },
  "language_info": {
   "codemirror_mode": {
    "name": "ipython",
    "version": 3
   },
   "file_extension": ".py",
   "mimetype": "text/x-python",
   "name": "python",
   "nbconvert_exporter": "python",
   "pygments_lexer": "ipython3",
   "version": "3.5.5"
  }
 },
 "nbformat": 4,
 "nbformat_minor": 2
}
