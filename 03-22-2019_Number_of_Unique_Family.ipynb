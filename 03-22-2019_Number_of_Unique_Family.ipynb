{
 "cells": [
  {
   "cell_type": "code",
   "execution_count": 16,
   "metadata": {},
   "outputs": [],
   "source": [
    "suppressPackageStartupMessages({\n",
    "    library(tidyverse)\n",
    "    library(reshape2)\n",
    "    library(ggpubr)\n",
    "    library(matrixStats)\n",
    "})"
   ]
  },
  {
   "cell_type": "code",
   "execution_count": 2,
   "metadata": {},
   "outputs": [],
   "source": [
    "df = read.csv(\"all_samples_fam.csv\")"
   ]
  },
  {
   "cell_type": "code",
   "execution_count": 3,
   "metadata": {},
   "outputs": [
    {
     "data": {
      "text/html": [
       "<table>\n",
       "<thead><tr><th scope=col>taxa</th><th scope=col>V1V2_HNO17_S8_R1</th><th scope=col>V1V2_HNO19_S9_R1</th><th scope=col>V1V2_HNO209_S14_R1</th><th scope=col>V1V2_HNO223_S15_R1</th></tr></thead>\n",
       "<tbody>\n",
       "\t<tr><td>Acholeplasmataceae</td><td> 0                </td><td>0                 </td><td>0                 </td><td>0                 </td></tr>\n",
       "\t<tr><td>Actinomycetaceae  </td><td>11                </td><td>9                 </td><td>5                 </td><td>5                 </td></tr>\n",
       "\t<tr><td>Aerococcaceae     </td><td> 1                </td><td>1                 </td><td>0                 </td><td>1                 </td></tr>\n",
       "\t<tr><td>Akkermansiaceae   </td><td> 1                </td><td>0                 </td><td>0                 </td><td>0                 </td></tr>\n",
       "\t<tr><td>Alteromonadaceae  </td><td> 0                </td><td>0                 </td><td>0                 </td><td>0                 </td></tr>\n",
       "</tbody>\n",
       "</table>\n"
      ],
      "text/latex": [
       "\\begin{tabular}{r|lllll}\n",
       " taxa & V1V2\\_HNO17\\_S8\\_R1 & V1V2\\_HNO19\\_S9\\_R1 & V1V2\\_HNO209\\_S14\\_R1 & V1V2\\_HNO223\\_S15\\_R1\\\\\n",
       "\\hline\n",
       "\t Acholeplasmataceae &  0                 & 0                  & 0                  & 0                 \\\\\n",
       "\t Actinomycetaceae   & 11                 & 9                  & 5                  & 5                 \\\\\n",
       "\t Aerococcaceae      &  1                 & 1                  & 0                  & 1                 \\\\\n",
       "\t Akkermansiaceae    &  1                 & 0                  & 0                  & 0                 \\\\\n",
       "\t Alteromonadaceae   &  0                 & 0                  & 0                  & 0                 \\\\\n",
       "\\end{tabular}\n"
      ],
      "text/markdown": [
       "\n",
       "| taxa | V1V2_HNO17_S8_R1 | V1V2_HNO19_S9_R1 | V1V2_HNO209_S14_R1 | V1V2_HNO223_S15_R1 |\n",
       "|---|---|---|---|---|\n",
       "| Acholeplasmataceae |  0                 | 0                  | 0                  | 0                  |\n",
       "| Actinomycetaceae   | 11                 | 9                  | 5                  | 5                  |\n",
       "| Aerococcaceae      |  1                 | 1                  | 0                  | 1                  |\n",
       "| Akkermansiaceae    |  1                 | 0                  | 0                  | 0                  |\n",
       "| Alteromonadaceae   |  0                 | 0                  | 0                  | 0                  |\n",
       "\n"
      ],
      "text/plain": [
       "  taxa               V1V2_HNO17_S8_R1 V1V2_HNO19_S9_R1 V1V2_HNO209_S14_R1\n",
       "1 Acholeplasmataceae  0               0                0                 \n",
       "2 Actinomycetaceae   11               9                5                 \n",
       "3 Aerococcaceae       1               1                0                 \n",
       "4 Akkermansiaceae     1               0                0                 \n",
       "5 Alteromonadaceae    0               0                0                 \n",
       "  V1V2_HNO223_S15_R1\n",
       "1 0                 \n",
       "2 5                 \n",
       "3 1                 \n",
       "4 0                 \n",
       "5 0                 "
      ]
     },
     "metadata": {},
     "output_type": "display_data"
    }
   ],
   "source": [
    "df[1:5,1:5]"
   ]
  },
  {
   "cell_type": "code",
   "execution_count": 4,
   "metadata": {},
   "outputs": [],
   "source": [
    "df2_mat = as.matrix( df[-1])\n",
    "rownames(df2_mat) = df$taxa"
   ]
  },
  {
   "cell_type": "code",
   "execution_count": 5,
   "metadata": {},
   "outputs": [
    {
     "data": {
      "text/html": [
       "<ol class=list-inline>\n",
       "\t<li>'V1V2'</li>\n",
       "\t<li>'V2V3'</li>\n",
       "\t<li>'V3V4'</li>\n",
       "\t<li>'V4V5'</li>\n",
       "\t<li>'V5V7'</li>\n",
       "\t<li>'V7V9'</li>\n",
       "</ol>\n"
      ],
      "text/latex": [
       "\\begin{enumerate*}\n",
       "\\item 'V1V2'\n",
       "\\item 'V2V3'\n",
       "\\item 'V3V4'\n",
       "\\item 'V4V5'\n",
       "\\item 'V5V7'\n",
       "\\item 'V7V9'\n",
       "\\end{enumerate*}\n"
      ],
      "text/markdown": [
       "1. 'V1V2'\n",
       "2. 'V2V3'\n",
       "3. 'V3V4'\n",
       "4. 'V4V5'\n",
       "5. 'V5V7'\n",
       "6. 'V7V9'\n",
       "\n",
       "\n"
      ],
      "text/plain": [
       "[1] \"V1V2\" \"V2V3\" \"V3V4\" \"V4V5\" \"V5V7\" \"V7V9\""
      ]
     },
     "metadata": {},
     "output_type": "display_data"
    }
   ],
   "source": [
    "# sets\n",
    "primer_sets = unique( sapply(strsplit(colnames(df2_mat),'_'),'[[',1) )\n",
    "primer_sets"
   ]
  },
  {
   "cell_type": "code",
   "execution_count": 6,
   "metadata": {},
   "outputs": [
    {
     "name": "stdout",
     "output_type": "stream",
     "text": [
      "[1] \"V1V2\"\n",
      "[1] \"V2V3\"\n",
      "[1] \"V3V4\"\n",
      "[1] \"V4V5\"\n",
      "[1] \"V5V7\"\n",
      "[1] \"V7V9\"\n"
     ]
    }
   ],
   "source": [
    "new_df = list();\n",
    "for( i in 1:length(primer_sets) ){\n",
    "    primer= primer_sets[i]\n",
    "    print(primer)\n",
    "    new_df[[primer]] = rowMeans(df2_mat[ , grep( primer, colnames(df2_mat))])\n",
    "    }"
   ]
  },
  {
   "cell_type": "code",
   "execution_count": 7,
   "metadata": {},
   "outputs": [],
   "source": [
    "new_df = as.data.frame( new_df )"
   ]
  },
  {
   "cell_type": "code",
   "execution_count": 8,
   "metadata": {},
   "outputs": [
    {
     "data": {
      "text/html": [
       "<table>\n",
       "<thead><tr><th></th><th scope=col>V1V2</th><th scope=col>V2V3</th><th scope=col>V3V4</th><th scope=col>V4V5</th><th scope=col>V5V7</th><th scope=col>V7V9</th></tr></thead>\n",
       "<tbody>\n",
       "\t<tr><th scope=row>Acholeplasmataceae</th><td>0.04347826</td><td>0.04347826</td><td>0.04347826</td><td>0.04347826</td><td>0.04347826</td><td>0.0000000 </td></tr>\n",
       "\t<tr><th scope=row>Actinomycetaceae</th><td>6.73913043</td><td>7.39130435</td><td>6.39130435</td><td>6.13043478</td><td>8.47826087</td><td>2.9130435 </td></tr>\n",
       "\t<tr><th scope=row>Aerococcaceae</th><td>0.52173913</td><td>0.08695652</td><td>0.34782609</td><td>0.34782609</td><td>1.17391304</td><td>0.4782609 </td></tr>\n",
       "\t<tr><th scope=row>Akkermansiaceae</th><td>0.39130435</td><td>0.08695652</td><td>0.08695652</td><td>0.08695652</td><td>0.17391304</td><td>0.0000000 </td></tr>\n",
       "\t<tr><th scope=row>Alteromonadaceae</th><td>0.00000000</td><td>0.00000000</td><td>0.00000000</td><td>0.04347826</td><td>0.00000000</td><td>0.0000000 </td></tr>\n",
       "\t<tr><th scope=row>Anaerolineaceae</th><td>0.00000000</td><td>0.04347826</td><td>0.00000000</td><td>0.00000000</td><td>0.00000000</td><td>0.0000000 </td></tr>\n",
       "</tbody>\n",
       "</table>\n"
      ],
      "text/latex": [
       "\\begin{tabular}{r|llllll}\n",
       "  & V1V2 & V2V3 & V3V4 & V4V5 & V5V7 & V7V9\\\\\n",
       "\\hline\n",
       "\tAcholeplasmataceae & 0.04347826 & 0.04347826 & 0.04347826 & 0.04347826 & 0.04347826 & 0.0000000 \\\\\n",
       "\tActinomycetaceae & 6.73913043 & 7.39130435 & 6.39130435 & 6.13043478 & 8.47826087 & 2.9130435 \\\\\n",
       "\tAerococcaceae & 0.52173913 & 0.08695652 & 0.34782609 & 0.34782609 & 1.17391304 & 0.4782609 \\\\\n",
       "\tAkkermansiaceae & 0.39130435 & 0.08695652 & 0.08695652 & 0.08695652 & 0.17391304 & 0.0000000 \\\\\n",
       "\tAlteromonadaceae & 0.00000000 & 0.00000000 & 0.00000000 & 0.04347826 & 0.00000000 & 0.0000000 \\\\\n",
       "\tAnaerolineaceae & 0.00000000 & 0.04347826 & 0.00000000 & 0.00000000 & 0.00000000 & 0.0000000 \\\\\n",
       "\\end{tabular}\n"
      ],
      "text/markdown": [
       "\n",
       "| <!--/--> | V1V2 | V2V3 | V3V4 | V4V5 | V5V7 | V7V9 |\n",
       "|---|---|---|---|---|---|---|\n",
       "| Acholeplasmataceae | 0.04347826 | 0.04347826 | 0.04347826 | 0.04347826 | 0.04347826 | 0.0000000  |\n",
       "| Actinomycetaceae | 6.73913043 | 7.39130435 | 6.39130435 | 6.13043478 | 8.47826087 | 2.9130435  |\n",
       "| Aerococcaceae | 0.52173913 | 0.08695652 | 0.34782609 | 0.34782609 | 1.17391304 | 0.4782609  |\n",
       "| Akkermansiaceae | 0.39130435 | 0.08695652 | 0.08695652 | 0.08695652 | 0.17391304 | 0.0000000  |\n",
       "| Alteromonadaceae | 0.00000000 | 0.00000000 | 0.00000000 | 0.04347826 | 0.00000000 | 0.0000000  |\n",
       "| Anaerolineaceae | 0.00000000 | 0.04347826 | 0.00000000 | 0.00000000 | 0.00000000 | 0.0000000  |\n",
       "\n"
      ],
      "text/plain": [
       "                   V1V2       V2V3       V3V4       V4V5       V5V7      \n",
       "Acholeplasmataceae 0.04347826 0.04347826 0.04347826 0.04347826 0.04347826\n",
       "Actinomycetaceae   6.73913043 7.39130435 6.39130435 6.13043478 8.47826087\n",
       "Aerococcaceae      0.52173913 0.08695652 0.34782609 0.34782609 1.17391304\n",
       "Akkermansiaceae    0.39130435 0.08695652 0.08695652 0.08695652 0.17391304\n",
       "Alteromonadaceae   0.00000000 0.00000000 0.00000000 0.04347826 0.00000000\n",
       "Anaerolineaceae    0.00000000 0.04347826 0.00000000 0.00000000 0.00000000\n",
       "                   V7V9     \n",
       "Acholeplasmataceae 0.0000000\n",
       "Actinomycetaceae   2.9130435\n",
       "Aerococcaceae      0.4782609\n",
       "Akkermansiaceae    0.0000000\n",
       "Alteromonadaceae   0.0000000\n",
       "Anaerolineaceae    0.0000000"
      ]
     },
     "metadata": {},
     "output_type": "display_data"
    }
   ],
   "source": [
    "new_df %>% head"
   ]
  },
  {
   "cell_type": "code",
   "execution_count": 9,
   "metadata": {},
   "outputs": [
    {
     "data": {
      "text/html": [
       "67"
      ],
      "text/latex": [
       "67"
      ],
      "text/markdown": [
       "67"
      ],
      "text/plain": [
       "[1] 67"
      ]
     },
     "metadata": {},
     "output_type": "display_data"
    }
   ],
   "source": [
    "length( unique((rownames(new_df[ new_df$V1V2 !=0,][\"V1V2\"]))) )"
   ]
  },
  {
   "cell_type": "code",
   "execution_count": 10,
   "metadata": {},
   "outputs": [
    {
     "data": {
      "text/html": [
       "63"
      ],
      "text/latex": [
       "63"
      ],
      "text/markdown": [
       "63"
      ],
      "text/plain": [
       "[1] 63"
      ]
     },
     "metadata": {},
     "output_type": "display_data"
    }
   ],
   "source": [
    "length( unique((rownames(new_df[ new_df$V2V3 !=0,][\"V1V2\"]))) )"
   ]
  },
  {
   "cell_type": "code",
   "execution_count": 11,
   "metadata": {},
   "outputs": [
    {
     "data": {
      "text/html": [
       "64"
      ],
      "text/latex": [
       "64"
      ],
      "text/markdown": [
       "64"
      ],
      "text/plain": [
       "[1] 64"
      ]
     },
     "metadata": {},
     "output_type": "display_data"
    }
   ],
   "source": [
    "length( unique((rownames(new_df[ new_df$V4V5 !=0,][\"V1V2\"]))) )"
   ]
  },
  {
   "cell_type": "code",
   "execution_count": 12,
   "metadata": {},
   "outputs": [
    {
     "data": {
      "text/html": [
       "67"
      ],
      "text/latex": [
       "67"
      ],
      "text/markdown": [
       "67"
      ],
      "text/plain": [
       "[1] 67"
      ]
     },
     "metadata": {},
     "output_type": "display_data"
    }
   ],
   "source": [
    "length( unique((rownames(new_df[ new_df$V3V4 !=0,][\"V1V2\"]))) )"
   ]
  },
  {
   "cell_type": "code",
   "execution_count": 13,
   "metadata": {},
   "outputs": [
    {
     "data": {
      "text/html": [
       "67"
      ],
      "text/latex": [
       "67"
      ],
      "text/markdown": [
       "67"
      ],
      "text/plain": [
       "[1] 67"
      ]
     },
     "metadata": {},
     "output_type": "display_data"
    }
   ],
   "source": [
    "length( unique((rownames(new_df[ new_df$V3V4 !=0,][\"V1V2\"]))) )"
   ]
  },
  {
   "cell_type": "code",
   "execution_count": 14,
   "metadata": {},
   "outputs": [],
   "source": [
    "v1v2 = length( unique((rownames(new_df[ new_df$V1V2 !=0,][\"V1V2\"]))) )\n",
    "v2v3 = length( unique((rownames(new_df[ new_df$V2V3 !=0,][\"V2V3\"]))) )\n",
    "v3v4 = length( unique((rownames(new_df[ new_df$V3V4 !=0,][\"V3V4\"]))) )\n",
    "v4v5 = length( unique((rownames(new_df[ new_df$V4V5 !=0,][\"V4V5\"]))) )\n",
    "v5v7 = length( unique((rownames(new_df[ new_df$V5V7 !=0,][\"V5V7\"]))) )\n",
    "v7v9 = length( unique((rownames(new_df[ new_df$V5V7 !=0,][\"V7V9\"]))) )"
   ]
  },
  {
   "cell_type": "code",
   "execution_count": 15,
   "metadata": {},
   "outputs": [
    {
     "data": {
      "image/png": "[encoded data removed]",
      "text/plain": [
       "plot without title"
      ]
     },
     "metadata": {},
     "output_type": "display_data"
    }
   ],
   "source": [
    "options(repr.plot.height=4, repr.plot.width=5)\n",
    "barplot( cbind( v1v2, v2v3, v3v4, v4v5, v5v7, v7v9 ) , las=1)"
   ]
  }
 ],
 "metadata": {
  "kernelspec": {
   "display_name": "R 3.5",
   "language": "R",
   "name": "ir35"
  },
  "language_info": {
   "codemirror_mode": "r",
   "file_extension": ".r",
   "mimetype": "text/x-r-source",
   "name": "R",
   "pygments_lexer": "r",
   "version": "3.5.1"
  }
 },
 "nbformat": 4,
 "nbformat_minor": 2
}
