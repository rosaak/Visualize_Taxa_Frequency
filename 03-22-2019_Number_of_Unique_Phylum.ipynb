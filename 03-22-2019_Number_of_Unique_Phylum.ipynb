{
 "cells": [
  {
   "cell_type": "code",
   "execution_count": 16,
   "metadata": {},
   "outputs": [],
   "source": [
    "suppressPackageStartupMessages({\n",
    "    library(tidyverse)\n",
    "    library(reshape2)\n",
    "    library(ggpubr)\n",
    "    library(matrixStats)\n",
    "})"
   ]
  },
  {
   "cell_type": "code",
   "execution_count": 2,
   "metadata": {},
   "outputs": [],
   "source": [
    "df = read.csv(\"all_samples_phylum.csv\")"
   ]
  },
  {
   "cell_type": "code",
   "execution_count": 3,
   "metadata": {},
   "outputs": [
    {
     "data": {
      "text/html": [
       "<table>\n",
       "<thead><tr><th scope=col>taxa</th><th scope=col>V1V2_HNO17_S8_R1</th><th scope=col>V1V2_HNO19_S9_R1</th><th scope=col>V1V2_HNO209_S14_R1</th><th scope=col>V1V2_HNO223_S15_R1</th></tr></thead>\n",
       "<tbody>\n",
       "\t<tr><td>Actinobacteria</td><td>25            </td><td>20            </td><td>16            </td><td>12            </td></tr>\n",
       "\t<tr><td>Amoebozoa     </td><td> 0            </td><td> 0            </td><td> 0            </td><td> 0            </td></tr>\n",
       "\t<tr><td>Archaeplastida</td><td> 0            </td><td> 0            </td><td> 0            </td><td> 0            </td></tr>\n",
       "\t<tr><td>Bacteroidetes </td><td>37            </td><td>18            </td><td>15            </td><td>22            </td></tr>\n",
       "\t<tr><td>Chloroflexi   </td><td> 0            </td><td> 0            </td><td> 0            </td><td> 0            </td></tr>\n",
       "</tbody>\n",
       "</table>\n"
      ],
      "text/latex": [
       "\\begin{tabular}{r|lllll}\n",
       " taxa & V1V2\\_HNO17\\_S8\\_R1 & V1V2\\_HNO19\\_S9\\_R1 & V1V2\\_HNO209\\_S14\\_R1 & V1V2\\_HNO223\\_S15\\_R1\\\\\n",
       "\\hline\n",
       "\t Actinobacteria & 25             & 20             & 16             & 12            \\\\\n",
       "\t Amoebozoa      &  0             &  0             &  0             &  0            \\\\\n",
       "\t Archaeplastida &  0             &  0             &  0             &  0            \\\\\n",
       "\t Bacteroidetes  & 37             & 18             & 15             & 22            \\\\\n",
       "\t Chloroflexi    &  0             &  0             &  0             &  0            \\\\\n",
       "\\end{tabular}\n"
      ],
      "text/markdown": [
       "\n",
       "| taxa | V1V2_HNO17_S8_R1 | V1V2_HNO19_S9_R1 | V1V2_HNO209_S14_R1 | V1V2_HNO223_S15_R1 |\n",
       "|---|---|---|---|---|\n",
       "| Actinobacteria | 25             | 20             | 16             | 12             |\n",
       "| Amoebozoa      |  0             |  0             |  0             |  0             |\n",
       "| Archaeplastida |  0             |  0             |  0             |  0             |\n",
       "| Bacteroidetes  | 37             | 18             | 15             | 22             |\n",
       "| Chloroflexi    |  0             |  0             |  0             |  0             |\n",
       "\n"
      ],
      "text/plain": [
       "  taxa           V1V2_HNO17_S8_R1 V1V2_HNO19_S9_R1 V1V2_HNO209_S14_R1\n",
       "1 Actinobacteria 25               20               16                \n",
       "2 Amoebozoa       0                0                0                \n",
       "3 Archaeplastida  0                0                0                \n",
       "4 Bacteroidetes  37               18               15                \n",
       "5 Chloroflexi     0                0                0                \n",
       "  V1V2_HNO223_S15_R1\n",
       "1 12                \n",
       "2  0                \n",
       "3  0                \n",
       "4 22                \n",
       "5  0                "
      ]
     },
     "metadata": {},
     "output_type": "display_data"
    }
   ],
   "source": [
    "df[1:5,1:5]"
   ]
  },
  {
   "cell_type": "code",
   "execution_count": 4,
   "metadata": {},
   "outputs": [],
   "source": [
    "df2_mat = as.matrix( df[-1])\n",
    "rownames(df2_mat) = df$taxa"
   ]
  },
  {
   "cell_type": "code",
   "execution_count": 5,
   "metadata": {},
   "outputs": [
    {
     "data": {
      "text/html": [
       "<ol class=list-inline>\n",
       "\t<li>'V1V2'</li>\n",
       "\t<li>'V2V3'</li>\n",
       "\t<li>'V3V4'</li>\n",
       "\t<li>'V4V5'</li>\n",
       "\t<li>'V5V7'</li>\n",
       "\t<li>'V7V9'</li>\n",
       "</ol>\n"
      ],
      "text/latex": [
       "\\begin{enumerate*}\n",
       "\\item 'V1V2'\n",
       "\\item 'V2V3'\n",
       "\\item 'V3V4'\n",
       "\\item 'V4V5'\n",
       "\\item 'V5V7'\n",
       "\\item 'V7V9'\n",
       "\\end{enumerate*}\n"
      ],
      "text/markdown": [
       "1. 'V1V2'\n",
       "2. 'V2V3'\n",
       "3. 'V3V4'\n",
       "4. 'V4V5'\n",
       "5. 'V5V7'\n",
       "6. 'V7V9'\n",
       "\n",
       "\n"
      ],
      "text/plain": [
       "[1] \"V1V2\" \"V2V3\" \"V3V4\" \"V4V5\" \"V5V7\" \"V7V9\""
      ]
     },
     "metadata": {},
     "output_type": "display_data"
    }
   ],
   "source": [
    "# sets\n",
    "primer_sets = unique( sapply(strsplit(colnames(df2_mat),'_'),'[[',1) )\n",
    "primer_sets"
   ]
  },
  {
   "cell_type": "code",
   "execution_count": 6,
   "metadata": {},
   "outputs": [
    {
     "name": "stdout",
     "output_type": "stream",
     "text": [
      "[1] \"V1V2\"\n",
      "[1] \"V2V3\"\n",
      "[1] \"V3V4\"\n",
      "[1] \"V4V5\"\n",
      "[1] \"V5V7\"\n",
      "[1] \"V7V9\"\n"
     ]
    }
   ],
   "source": [
    "new_df = list();\n",
    "for( i in 1:length(primer_sets) ){\n",
    "    primer= primer_sets[i]\n",
    "    print(primer)\n",
    "    new_df[[primer]] = rowMeans(df2_mat[ , grep( primer, colnames(df2_mat))])\n",
    "    }"
   ]
  },
  {
   "cell_type": "code",
   "execution_count": 7,
   "metadata": {},
   "outputs": [],
   "source": [
    "new_df = as.data.frame( new_df )"
   ]
  },
  {
   "cell_type": "code",
   "execution_count": 8,
   "metadata": {},
   "outputs": [
    {
     "data": {
      "text/html": [
       "<table>\n",
       "<thead><tr><th></th><th scope=col>V1V2</th><th scope=col>V2V3</th><th scope=col>V3V4</th><th scope=col>V4V5</th><th scope=col>V5V7</th><th scope=col>V7V9</th></tr></thead>\n",
       "<tbody>\n",
       "\t<tr><th scope=row>Actinobacteria</th><td>17.60869565</td><td>19.34782609</td><td>13.4782609 </td><td>15.52173913</td><td>21.000000  </td><td> 6.5652174 </td></tr>\n",
       "\t<tr><th scope=row>Amoebozoa</th><td> 0.00000000</td><td> 0.00000000</td><td> 0.0000000 </td><td> 0.04347826</td><td> 0.000000  </td><td> 0.0000000 </td></tr>\n",
       "\t<tr><th scope=row>Archaeplastida</th><td> 0.00000000</td><td> 0.00000000</td><td> 0.0000000 </td><td> 0.17391304</td><td> 0.000000  </td><td> 0.0000000 </td></tr>\n",
       "\t<tr><th scope=row>Bacteroidetes</th><td>29.56521739</td><td>22.00000000</td><td>23.2608696 </td><td>29.95652174</td><td>23.826087  </td><td>16.9130435 </td></tr>\n",
       "\t<tr><th scope=row>Chloroflexi</th><td> 0.04347826</td><td> 0.04347826</td><td> 0.0000000 </td><td> 0.00000000</td><td> 0.000000  </td><td> 0.0000000 </td></tr>\n",
       "\t<tr><th scope=row>Cyanobacteria</th><td> 0.08695652</td><td> 0.08695652</td><td> 0.3043478 </td><td> 0.39130435</td><td> 0.173913  </td><td> 0.2173913 </td></tr>\n",
       "</tbody>\n",
       "</table>\n"
      ],
      "text/latex": [
       "\\begin{tabular}{r|llllll}\n",
       "  & V1V2 & V2V3 & V3V4 & V4V5 & V5V7 & V7V9\\\\\n",
       "\\hline\n",
       "\tActinobacteria & 17.60869565 & 19.34782609 & 13.4782609  & 15.52173913 & 21.000000   &  6.5652174 \\\\\n",
       "\tAmoebozoa &  0.00000000 &  0.00000000 &  0.0000000  &  0.04347826 &  0.000000   &  0.0000000 \\\\\n",
       "\tArchaeplastida &  0.00000000 &  0.00000000 &  0.0000000  &  0.17391304 &  0.000000   &  0.0000000 \\\\\n",
       "\tBacteroidetes & 29.56521739 & 22.00000000 & 23.2608696  & 29.95652174 & 23.826087   & 16.9130435 \\\\\n",
       "\tChloroflexi &  0.04347826 &  0.04347826 &  0.0000000  &  0.00000000 &  0.000000   &  0.0000000 \\\\\n",
       "\tCyanobacteria &  0.08695652 &  0.08695652 &  0.3043478  &  0.39130435 &  0.173913   &  0.2173913 \\\\\n",
       "\\end{tabular}\n"
      ],
      "text/markdown": [
       "\n",
       "| <!--/--> | V1V2 | V2V3 | V3V4 | V4V5 | V5V7 | V7V9 |\n",
       "|---|---|---|---|---|---|---|\n",
       "| Actinobacteria | 17.60869565 | 19.34782609 | 13.4782609  | 15.52173913 | 21.000000   |  6.5652174  |\n",
       "| Amoebozoa |  0.00000000 |  0.00000000 |  0.0000000  |  0.04347826 |  0.000000   |  0.0000000  |\n",
       "| Archaeplastida |  0.00000000 |  0.00000000 |  0.0000000  |  0.17391304 |  0.000000   |  0.0000000  |\n",
       "| Bacteroidetes | 29.56521739 | 22.00000000 | 23.2608696  | 29.95652174 | 23.826087   | 16.9130435  |\n",
       "| Chloroflexi |  0.04347826 |  0.04347826 |  0.0000000  |  0.00000000 |  0.000000   |  0.0000000  |\n",
       "| Cyanobacteria |  0.08695652 |  0.08695652 |  0.3043478  |  0.39130435 |  0.173913   |  0.2173913  |\n",
       "\n"
      ],
      "text/plain": [
       "               V1V2        V2V3        V3V4       V4V5        V5V7     \n",
       "Actinobacteria 17.60869565 19.34782609 13.4782609 15.52173913 21.000000\n",
       "Amoebozoa       0.00000000  0.00000000  0.0000000  0.04347826  0.000000\n",
       "Archaeplastida  0.00000000  0.00000000  0.0000000  0.17391304  0.000000\n",
       "Bacteroidetes  29.56521739 22.00000000 23.2608696 29.95652174 23.826087\n",
       "Chloroflexi     0.04347826  0.04347826  0.0000000  0.00000000  0.000000\n",
       "Cyanobacteria   0.08695652  0.08695652  0.3043478  0.39130435  0.173913\n",
       "               V7V9      \n",
       "Actinobacteria  6.5652174\n",
       "Amoebozoa       0.0000000\n",
       "Archaeplastida  0.0000000\n",
       "Bacteroidetes  16.9130435\n",
       "Chloroflexi     0.0000000\n",
       "Cyanobacteria   0.2173913"
      ]
     },
     "metadata": {},
     "output_type": "display_data"
    }
   ],
   "source": [
    "new_df %>% head"
   ]
  },
  {
   "cell_type": "code",
   "execution_count": 9,
   "metadata": {},
   "outputs": [
    {
     "data": {
      "text/html": [
       "14"
      ],
      "text/latex": [
       "14"
      ],
      "text/markdown": [
       "14"
      ],
      "text/plain": [
       "[1] 14"
      ]
     },
     "metadata": {},
     "output_type": "display_data"
    }
   ],
   "source": [
    "length( unique((rownames(new_df[ new_df$V1V2 !=0,][\"V1V2\"]))) )"
   ]
  },
  {
   "cell_type": "code",
   "execution_count": 10,
   "metadata": {},
   "outputs": [
    {
     "data": {
      "text/html": [
       "14"
      ],
      "text/latex": [
       "14"
      ],
      "text/markdown": [
       "14"
      ],
      "text/plain": [
       "[1] 14"
      ]
     },
     "metadata": {},
     "output_type": "display_data"
    }
   ],
   "source": [
    "length( unique((rownames(new_df[ new_df$V2V3 !=0,][\"V1V2\"]))) )"
   ]
  },
  {
   "cell_type": "code",
   "execution_count": 11,
   "metadata": {},
   "outputs": [
    {
     "data": {
      "text/html": [
       "16"
      ],
      "text/latex": [
       "16"
      ],
      "text/markdown": [
       "16"
      ],
      "text/plain": [
       "[1] 16"
      ]
     },
     "metadata": {},
     "output_type": "display_data"
    }
   ],
   "source": [
    "length( unique((rownames(new_df[ new_df$V4V5 !=0,][\"V1V2\"]))) )"
   ]
  },
  {
   "cell_type": "code",
   "execution_count": 12,
   "metadata": {},
   "outputs": [
    {
     "data": {
      "text/html": [
       "14"
      ],
      "text/latex": [
       "14"
      ],
      "text/markdown": [
       "14"
      ],
      "text/plain": [
       "[1] 14"
      ]
     },
     "metadata": {},
     "output_type": "display_data"
    }
   ],
   "source": [
    "length( unique((rownames(new_df[ new_df$V3V4 !=0,][\"V1V2\"]))) )"
   ]
  },
  {
   "cell_type": "code",
   "execution_count": 13,
   "metadata": {},
   "outputs": [
    {
     "data": {
      "text/html": [
       "14"
      ],
      "text/latex": [
       "14"
      ],
      "text/markdown": [
       "14"
      ],
      "text/plain": [
       "[1] 14"
      ]
     },
     "metadata": {},
     "output_type": "display_data"
    }
   ],
   "source": [
    "length( unique((rownames(new_df[ new_df$V3V4 !=0,][\"V1V2\"]))) )"
   ]
  },
  {
   "cell_type": "code",
   "execution_count": 14,
   "metadata": {},
   "outputs": [],
   "source": [
    "v1v2 = length( unique((rownames(new_df[ new_df$V1V2 !=0,][\"V1V2\"]))) )\n",
    "v2v3 = length( unique((rownames(new_df[ new_df$V2V3 !=0,][\"V2V3\"]))) )\n",
    "v3v4 = length( unique((rownames(new_df[ new_df$V3V4 !=0,][\"V3V4\"]))) )\n",
    "v4v5 = length( unique((rownames(new_df[ new_df$V4V5 !=0,][\"V4V5\"]))) )\n",
    "v5v7 = length( unique((rownames(new_df[ new_df$V5V7 !=0,][\"V5V7\"]))) )\n",
    "v7v9 = length( unique((rownames(new_df[ new_df$V5V7 !=0,][\"V7V9\"]))) )"
   ]
  },
  {
   "cell_type": "code",
   "execution_count": 15,
   "metadata": {},
   "outputs": [
    {
     "data": {
      "image/png": "[encoded data removed]",
      "text/plain": [
       "plot without title"
      ]
     },
     "metadata": {},
     "output_type": "display_data"
    }
   ],
   "source": [
    "options(repr.plot.height=4, repr.plot.width=5)\n",
    "barplot( cbind( v1v2, v2v3, v3v4, v4v5, v5v7, v7v9 ) , las=1)"
   ]
  }
 ],
 "metadata": {
  "kernelspec": {
   "display_name": "R 3.5",
   "language": "R",
   "name": "ir35"
  },
  "language_info": {
   "codemirror_mode": "r",
   "file_extension": ".r",
   "mimetype": "text/x-r-source",
   "name": "R",
   "pygments_lexer": "r",
   "version": "3.5.1"
  }
 },
 "nbformat": 4,
 "nbformat_minor": 2
}
