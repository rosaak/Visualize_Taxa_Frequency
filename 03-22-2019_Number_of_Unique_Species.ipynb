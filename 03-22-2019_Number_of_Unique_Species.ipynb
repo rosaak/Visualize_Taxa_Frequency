{
 "cells": [
  {
   "cell_type": "code",
   "execution_count": 2,
   "metadata": {},
   "outputs": [],
   "source": [
    "suppressPackageStartupMessages({\n",
    "    library(tidyverse)\n",
    "    library(reshape2)\n",
    "    library(ggpubr)\n",
    "    library(matrixStats)\n",
    "})"
   ]
  },
  {
   "cell_type": "code",
   "execution_count": 3,
   "metadata": {},
   "outputs": [],
   "source": [
    "df = read.csv(\"all_samples_species.csv\")"
   ]
  },
  {
   "cell_type": "code",
   "execution_count": 4,
   "metadata": {},
   "outputs": [
    {
     "data": {
      "text/html": [
       "<table>\n",
       "<thead><tr><th scope=col>taxa</th><th scope=col>V1V2_HNO17_S8_R1</th><th scope=col>V1V2_HNO19_S9_R1</th><th scope=col>V1V2_HNO209_S14_R1</th><th scope=col>V1V2_HNO223_S15_R1</th></tr></thead>\n",
       "<tbody>\n",
       "\t<tr><td>Actinomyces graevenitzii F0530</td><td> 1                            </td><td> 1                            </td><td> 1                            </td><td> 1                            </td></tr>\n",
       "\t<tr><td>Aerococcus urinaeequi         </td><td> 0                            </td><td> 0                            </td><td> 0                            </td><td> 0                            </td></tr>\n",
       "\t<tr><td>Alistipes obesi               </td><td> 0                            </td><td> 0                            </td><td> 0                            </td><td> 1                            </td></tr>\n",
       "\t<tr><td>Ambiguous_taxa                </td><td>49                            </td><td>34                            </td><td>23                            </td><td>17                            </td></tr>\n",
       "\t<tr><td>Anaerococcus sp. SJ-2013      </td><td> 0                            </td><td> 0                            </td><td> 0                            </td><td> 0                            </td></tr>\n",
       "</tbody>\n",
       "</table>\n"
      ],
      "text/latex": [
       "\\begin{tabular}{r|lllll}\n",
       " taxa & V1V2\\_HNO17\\_S8\\_R1 & V1V2\\_HNO19\\_S9\\_R1 & V1V2\\_HNO209\\_S14\\_R1 & V1V2\\_HNO223\\_S15\\_R1\\\\\n",
       "\\hline\n",
       "\t Actinomyces graevenitzii F0530 &  1                             &  1                             &  1                             &  1                            \\\\\n",
       "\t Aerococcus urinaeequi          &  0                             &  0                             &  0                             &  0                            \\\\\n",
       "\t Alistipes obesi                &  0                             &  0                             &  0                             &  1                            \\\\\n",
       "\t Ambiguous\\_taxa                 & 49                               & 34                               & 23                               & 17                              \\\\\n",
       "\t Anaerococcus sp. SJ-2013       &  0                             &  0                             &  0                             &  0                            \\\\\n",
       "\\end{tabular}\n"
      ],
      "text/markdown": [
       "\n",
       "| taxa | V1V2_HNO17_S8_R1 | V1V2_HNO19_S9_R1 | V1V2_HNO209_S14_R1 | V1V2_HNO223_S15_R1 |\n",
       "|---|---|---|---|---|\n",
       "| Actinomyces graevenitzii F0530 |  1                             |  1                             |  1                             |  1                             |\n",
       "| Aerococcus urinaeequi          |  0                             |  0                             |  0                             |  0                             |\n",
       "| Alistipes obesi                |  0                             |  0                             |  0                             |  1                             |\n",
       "| Ambiguous_taxa                 | 49                             | 34                             | 23                             | 17                             |\n",
       "| Anaerococcus sp. SJ-2013       |  0                             |  0                             |  0                             |  0                             |\n",
       "\n"
      ],
      "text/plain": [
       "  taxa                           V1V2_HNO17_S8_R1 V1V2_HNO19_S9_R1\n",
       "1 Actinomyces graevenitzii F0530  1                1              \n",
       "2 Aerococcus urinaeequi           0                0              \n",
       "3 Alistipes obesi                 0                0              \n",
       "4 Ambiguous_taxa                 49               34              \n",
       "5 Anaerococcus sp. SJ-2013        0                0              \n",
       "  V1V2_HNO209_S14_R1 V1V2_HNO223_S15_R1\n",
       "1  1                  1                \n",
       "2  0                  0                \n",
       "3  0                  1                \n",
       "4 23                 17                \n",
       "5  0                  0                "
      ]
     },
     "metadata": {},
     "output_type": "display_data"
    }
   ],
   "source": [
    "df[1:5,1:5]"
   ]
  },
  {
   "cell_type": "code",
   "execution_count": 5,
   "metadata": {},
   "outputs": [],
   "source": [
    "df2_mat = as.matrix( df[-1])\n",
    "rownames(df2_mat) = df$taxa"
   ]
  },
  {
   "cell_type": "code",
   "execution_count": 6,
   "metadata": {},
   "outputs": [
    {
     "data": {
      "text/html": [
       "<ol class=list-inline>\n",
       "\t<li>'V1V2'</li>\n",
       "\t<li>'V2V3'</li>\n",
       "\t<li>'V3V4'</li>\n",
       "\t<li>'V4V5'</li>\n",
       "\t<li>'V5V7'</li>\n",
       "\t<li>'V7V9'</li>\n",
       "</ol>\n"
      ],
      "text/latex": [
       "\\begin{enumerate*}\n",
       "\\item 'V1V2'\n",
       "\\item 'V2V3'\n",
       "\\item 'V3V4'\n",
       "\\item 'V4V5'\n",
       "\\item 'V5V7'\n",
       "\\item 'V7V9'\n",
       "\\end{enumerate*}\n"
      ],
      "text/markdown": [
       "1. 'V1V2'\n",
       "2. 'V2V3'\n",
       "3. 'V3V4'\n",
       "4. 'V4V5'\n",
       "5. 'V5V7'\n",
       "6. 'V7V9'\n",
       "\n",
       "\n"
      ],
      "text/plain": [
       "[1] \"V1V2\" \"V2V3\" \"V3V4\" \"V4V5\" \"V5V7\" \"V7V9\""
      ]
     },
     "metadata": {},
     "output_type": "display_data"
    }
   ],
   "source": [
    "# sets\n",
    "primer_sets = unique( sapply(strsplit(colnames(df2_mat),'_'),'[[',1) )\n",
    "primer_sets"
   ]
  },
  {
   "cell_type": "code",
   "execution_count": 7,
   "metadata": {},
   "outputs": [
    {
     "name": "stdout",
     "output_type": "stream",
     "text": [
      "[1] \"V1V2\"\n",
      "[1] \"V2V3\"\n",
      "[1] \"V3V4\"\n",
      "[1] \"V4V5\"\n",
      "[1] \"V5V7\"\n",
      "[1] \"V7V9\"\n"
     ]
    }
   ],
   "source": [
    "new_df = list();\n",
    "for( i in 1:length(primer_sets) ){\n",
    "    primer= primer_sets[i]\n",
    "    print(primer)\n",
    "    new_df[[primer]] = rowMeans(df2_mat[ , grep( primer, colnames(df2_mat))])\n",
    "    }"
   ]
  },
  {
   "cell_type": "code",
   "execution_count": 8,
   "metadata": {},
   "outputs": [],
   "source": [
    "new_df = as.data.frame( new_df )"
   ]
  },
  {
   "cell_type": "code",
   "execution_count": 9,
   "metadata": {},
   "outputs": [
    {
     "data": {
      "text/html": [
       "<table>\n",
       "<thead><tr><th></th><th scope=col>V1V2</th><th scope=col>V2V3</th><th scope=col>V3V4</th><th scope=col>V4V5</th><th scope=col>V5V7</th><th scope=col>V7V9</th></tr></thead>\n",
       "<tbody>\n",
       "\t<tr><th scope=row>Actinomyces graevenitzii F0530</th><td> 0.826087  </td><td> 1.00000000</td><td> 0.86956522</td><td> 0.73913043</td><td> 0.6956522 </td><td> 0.26086957</td></tr>\n",
       "\t<tr><th scope=row>Aerococcus urinaeequi</th><td> 0.000000  </td><td> 0.00000000</td><td> 0.00000000</td><td> 0.00000000</td><td> 0.6956522 </td><td> 0.00000000</td></tr>\n",
       "\t<tr><th scope=row>Alistipes obesi</th><td> 0.173913  </td><td> 0.04347826</td><td> 0.04347826</td><td> 0.04347826</td><td> 0.0000000 </td><td> 0.04347826</td></tr>\n",
       "\t<tr><th scope=row>Ambiguous_taxa</th><td>33.130435  </td><td>28.08695652</td><td>21.73913043</td><td>27.47826087</td><td>22.0000000 </td><td>21.91304348</td></tr>\n",
       "\t<tr><th scope=row>Anaerococcus sp. SJ-2013</th><td> 0.000000  </td><td> 0.00000000</td><td> 0.00000000</td><td> 0.04347826</td><td> 0.0000000 </td><td> 0.00000000</td></tr>\n",
       "\t<tr><th scope=row>Bacteroides thetaiotaomicron</th><td> 0.000000  </td><td> 0.00000000</td><td> 0.00000000</td><td> 0.04347826</td><td> 0.0000000 </td><td> 0.04347826</td></tr>\n",
       "</tbody>\n",
       "</table>\n"
      ],
      "text/latex": [
       "\\begin{tabular}{r|llllll}\n",
       "  & V1V2 & V2V3 & V3V4 & V4V5 & V5V7 & V7V9\\\\\n",
       "\\hline\n",
       "\tActinomyces graevenitzii F0530 &  0.826087   &  1.00000000 &  0.86956522 &  0.73913043 &  0.6956522  &  0.26086957\\\\\n",
       "\tAerococcus urinaeequi &  0.000000   &  0.00000000 &  0.00000000 &  0.00000000 &  0.6956522  &  0.00000000\\\\\n",
       "\tAlistipes obesi &  0.173913   &  0.04347826 &  0.04347826 &  0.04347826 &  0.0000000  &  0.04347826\\\\\n",
       "\tAmbiguous\\_taxa & 33.130435   & 28.08695652 & 21.73913043 & 27.47826087 & 22.0000000  & 21.91304348\\\\\n",
       "\tAnaerococcus sp. SJ-2013 &  0.000000   &  0.00000000 &  0.00000000 &  0.04347826 &  0.0000000  &  0.00000000\\\\\n",
       "\tBacteroides thetaiotaomicron &  0.000000   &  0.00000000 &  0.00000000 &  0.04347826 &  0.0000000  &  0.04347826\\\\\n",
       "\\end{tabular}\n"
      ],
      "text/markdown": [
       "\n",
       "| <!--/--> | V1V2 | V2V3 | V3V4 | V4V5 | V5V7 | V7V9 |\n",
       "|---|---|---|---|---|---|---|\n",
       "| Actinomyces graevenitzii F0530 |  0.826087   |  1.00000000 |  0.86956522 |  0.73913043 |  0.6956522  |  0.26086957 |\n",
       "| Aerococcus urinaeequi |  0.000000   |  0.00000000 |  0.00000000 |  0.00000000 |  0.6956522  |  0.00000000 |\n",
       "| Alistipes obesi |  0.173913   |  0.04347826 |  0.04347826 |  0.04347826 |  0.0000000  |  0.04347826 |\n",
       "| Ambiguous_taxa | 33.130435   | 28.08695652 | 21.73913043 | 27.47826087 | 22.0000000  | 21.91304348 |\n",
       "| Anaerococcus sp. SJ-2013 |  0.000000   |  0.00000000 |  0.00000000 |  0.04347826 |  0.0000000  |  0.00000000 |\n",
       "| Bacteroides thetaiotaomicron |  0.000000   |  0.00000000 |  0.00000000 |  0.04347826 |  0.0000000  |  0.04347826 |\n",
       "\n"
      ],
      "text/plain": [
       "                               V1V2      V2V3        V3V4        V4V5       \n",
       "Actinomyces graevenitzii F0530  0.826087  1.00000000  0.86956522  0.73913043\n",
       "Aerococcus urinaeequi           0.000000  0.00000000  0.00000000  0.00000000\n",
       "Alistipes obesi                 0.173913  0.04347826  0.04347826  0.04347826\n",
       "Ambiguous_taxa                 33.130435 28.08695652 21.73913043 27.47826087\n",
       "Anaerococcus sp. SJ-2013        0.000000  0.00000000  0.00000000  0.04347826\n",
       "Bacteroides thetaiotaomicron    0.000000  0.00000000  0.00000000  0.04347826\n",
       "                               V5V7       V7V9       \n",
       "Actinomyces graevenitzii F0530  0.6956522  0.26086957\n",
       "Aerococcus urinaeequi           0.6956522  0.00000000\n",
       "Alistipes obesi                 0.0000000  0.04347826\n",
       "Ambiguous_taxa                 22.0000000 21.91304348\n",
       "Anaerococcus sp. SJ-2013        0.0000000  0.00000000\n",
       "Bacteroides thetaiotaomicron    0.0000000  0.04347826"
      ]
     },
     "metadata": {},
     "output_type": "display_data"
    }
   ],
   "source": [
    "new_df %>% head"
   ]
  },
  {
   "cell_type": "code",
   "execution_count": 10,
   "metadata": {},
   "outputs": [
    {
     "data": {
      "text/html": [
       "64"
      ],
      "text/latex": [
       "64"
      ],
      "text/markdown": [
       "64"
      ],
      "text/plain": [
       "[1] 64"
      ]
     },
     "metadata": {},
     "output_type": "display_data"
    }
   ],
   "source": [
    "length( unique((rownames(new_df[ new_df$V1V2 !=0,][\"V1V2\"]))) )"
   ]
  },
  {
   "cell_type": "code",
   "execution_count": 11,
   "metadata": {},
   "outputs": [
    {
     "data": {
      "text/html": [
       "54"
      ],
      "text/latex": [
       "54"
      ],
      "text/markdown": [
       "54"
      ],
      "text/plain": [
       "[1] 54"
      ]
     },
     "metadata": {},
     "output_type": "display_data"
    }
   ],
   "source": [
    "length( unique((rownames(new_df[ new_df$V2V3 !=0,][\"V1V2\"]))) )"
   ]
  },
  {
   "cell_type": "code",
   "execution_count": 12,
   "metadata": {},
   "outputs": [
    {
     "data": {
      "text/html": [
       "54"
      ],
      "text/latex": [
       "54"
      ],
      "text/markdown": [
       "54"
      ],
      "text/plain": [
       "[1] 54"
      ]
     },
     "metadata": {},
     "output_type": "display_data"
    }
   ],
   "source": [
    "length( unique((rownames(new_df[ new_df$V4V5 !=0,][\"V1V2\"]))) )"
   ]
  },
  {
   "cell_type": "code",
   "execution_count": 13,
   "metadata": {},
   "outputs": [
    {
     "data": {
      "text/html": [
       "40"
      ],
      "text/latex": [
       "40"
      ],
      "text/markdown": [
       "40"
      ],
      "text/plain": [
       "[1] 40"
      ]
     },
     "metadata": {},
     "output_type": "display_data"
    }
   ],
   "source": [
    "length( unique((rownames(new_df[ new_df$V3V4 !=0,][\"V1V2\"]))) )"
   ]
  },
  {
   "cell_type": "code",
   "execution_count": 14,
   "metadata": {},
   "outputs": [
    {
     "data": {
      "text/html": [
       "40"
      ],
      "text/latex": [
       "40"
      ],
      "text/markdown": [
       "40"
      ],
      "text/plain": [
       "[1] 40"
      ]
     },
     "metadata": {},
     "output_type": "display_data"
    }
   ],
   "source": [
    "length( unique((rownames(new_df[ new_df$V3V4 !=0,][\"V1V2\"]))) )"
   ]
  },
  {
   "cell_type": "code",
   "execution_count": 15,
   "metadata": {},
   "outputs": [],
   "source": [
    "v1v2 = length( unique((rownames(new_df[ new_df$V1V2 !=0,][\"V1V2\"]))) )\n",
    "v2v3 = length( unique((rownames(new_df[ new_df$V2V3 !=0,][\"V2V3\"]))) )\n",
    "v3v4 = length( unique((rownames(new_df[ new_df$V3V4 !=0,][\"V3V4\"]))) )\n",
    "v4v5 = length( unique((rownames(new_df[ new_df$V4V5 !=0,][\"V4V5\"]))) )\n",
    "v5v7 = length( unique((rownames(new_df[ new_df$V5V7 !=0,][\"V5V7\"]))) )\n",
    "v7v9 = length( unique((rownames(new_df[ new_df$V5V7 !=0,][\"V7V9\"]))) )"
   ]
  },
  {
   "cell_type": "code",
   "execution_count": 16,
   "metadata": {},
   "outputs": [
    {
     "data": {
      "image/png": "[encoded data removed]",
      "text/plain": [
       "plot without title"
      ]
     },
     "metadata": {},
     "output_type": "display_data"
    }
   ],
   "source": [
    "options(repr.plot.height=4, repr.plot.width=5)\n",
    "barplot( cbind( v1v2, v2v3, v3v4, v4v5, v5v7, v7v9 ) , las=1)"
   ]
  }
 ],
 "metadata": {
  "kernelspec": {
   "display_name": "R 3.5",
   "language": "R",
   "name": "ir35"
  },
  "language_info": {
   "codemirror_mode": "r",
   "file_extension": ".r",
   "mimetype": "text/x-r-source",
   "name": "R",
   "pygments_lexer": "r",
   "version": "3.5.1"
  }
 },
 "nbformat": 4,
 "nbformat_minor": 2
}
